{
 "cells": [
  {
   "cell_type": "code",
   "execution_count": 19,
   "metadata": {},
   "outputs": [],
   "source": [
    "from cryptography.fernet import Fernet\n",
    "global key\n",
    "key = Fernet.generate_key()\n",
    "global cipher_suite\n",
    "cipher_suite = Fernet(key)"
   ]
  },
  {
   "cell_type": "code",
   "execution_count": 14,
   "metadata": {},
   "outputs": [],
   "source": [
    "def getContentFromUser():\n",
    "    global user_content\n",
    "    user_content = input(\"Enter the content you want to encrypted\")\n",
    "    return user_content"
   ]
  },
  {
   "cell_type": "code",
   "execution_count": 20,
   "metadata": {},
   "outputs": [],
   "source": [
    "def encrytUserContent():\n",
    "    string = bytes(user_content, 'utf-8')\n",
    "    print(user_content)\n",
    "    global cipher_text\n",
    "    cipher_text = cipher_suite.encrypt(string)\n",
    "    print(cipher_text)\n",
    "    return cipher_text"
   ]
  },
  {
   "cell_type": "code",
   "execution_count": 16,
   "metadata": {},
   "outputs": [],
   "source": [
    "def decryptCipherText():\n",
    "    userInput2 = input(\"Enter cipher text to decrypt\")\n",
    "    plain_text = cipher_suite.decrypt(cipher_text).decode()\n",
    "    print(plain_text)\n",
    "    return plain_text"
   ]
  },
  {
   "cell_type": "code",
   "execution_count": 21,
   "metadata": {},
   "outputs": [
    {
     "name": "stdout",
     "output_type": "stream",
     "text": [
      "Enter the content you want to encryptedMy ATM pin is 9398.\n",
      "My ATM pin is 9398.\n",
      "b'gAAAAABgCY4TqGzdzUA_qDxNt7PrldOdjEyAXlToedAfu7MgEFdHAeucjAipugcKOtZlbKO-XU8vSXQcFzqhSM5KrIqGly3LkJH-b9mVfMd4SHoMu5v4Tow='\n",
      "Enter cipher text to decryptb'gAAAAABgCY4TqGzdzUA_qDxNt7PrldOdjEyAXlToedAfu7MgEFdHAeucjAipugcKOtZlbKO-XU8vSXQcFzqhSM5KrIqGly3LkJH-b9mVfMd4SHoMu5v4Tow='\n",
      "My ATM pin is 9398.\n"
     ]
    }
   ],
   "source": [
    "userMessage = getContentFromUser()\n",
    "key = Fernet.generate_key()\n",
    "encryptMessage = encrytUserContent()\n",
    "decryptUserMessage = decryptCipherText()"
   ]
  },
  {
   "cell_type": "code",
   "execution_count": null,
   "metadata": {},
   "outputs": [],
   "source": []
  }
 ],
 "metadata": {
  "kernelspec": {
   "display_name": "Python 3",
   "language": "python",
   "name": "python3"
  },
  "language_info": {
   "codemirror_mode": {
    "name": "ipython",
    "version": 3
   },
   "file_extension": ".py",
   "mimetype": "text/x-python",
   "name": "python",
   "nbconvert_exporter": "python",
   "pygments_lexer": "ipython3",
   "version": "3.8.5"
  }
 },
 "nbformat": 4,
 "nbformat_minor": 4
}
